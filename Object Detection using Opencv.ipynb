{
 "cells": [
  {
   "cell_type": "markdown",
   "id": "2f70c7cf",
   "metadata": {},
   "source": [
    "# Install the liabrary"
   ]
  },
  {
   "cell_type": "code",
   "execution_count": null,
   "id": "9a8b3275",
   "metadata": {},
   "outputs": [],
   "source": [
    "# pip install opencv-python"
   ]
  },
  {
   "cell_type": "code",
   "execution_count": 2,
   "id": "117f43c8",
   "metadata": {},
   "outputs": [],
   "source": [
    "import cv2"
   ]
  },
  {
   "cell_type": "markdown",
   "id": "028d67e7",
   "metadata": {},
   "source": [
    "# Read, view and save image"
   ]
  },
  {
   "cell_type": "code",
   "execution_count": null,
   "id": "5ce1f410",
   "metadata": {},
   "outputs": [],
   "source": [
    "# to open the image \n",
    "\n",
    "image= cv2.imread('DataScientist.jpg')\n",
    "\n",
    "# to view the image\n",
    "# image # pixel values in array format\n",
    "\n",
    "cv2.imshow('imageframe',image)\n",
    "\n",
    "# save in different format\n",
    "cv2.imwrite('DS.png',image)\n",
    "\n",
    "cv2.waitKey(5000) # 5000 for 5 seconds\n",
    "cv2.destroyAllWindows()"
   ]
  },
  {
   "cell_type": "code",
   "execution_count": null,
   "id": "4e47a3fa",
   "metadata": {},
   "outputs": [],
   "source": [
    "# to convert to grayscale"
   ]
  },
  {
   "cell_type": "code",
   "execution_count": null,
   "id": "533a559e",
   "metadata": {},
   "outputs": [],
   "source": [
    "grey_img= cv2.cvtColor(image, cv2.COLOR_BGR2GRAY)\n",
    "\n",
    "cv2.imshow('greyImageFrame',grey_img)\n",
    "cv2.waitKey(5000)\n",
    "cv2.destroyAllWindows()\n",
    "print(grey_img.shape)"
   ]
  },
  {
   "cell_type": "code",
   "execution_count": null,
   "id": "e82b8c93",
   "metadata": {},
   "outputs": [],
   "source": [
    "print(grey_img.shape)"
   ]
  },
  {
   "cell_type": "markdown",
   "id": "a259b8d9",
   "metadata": {},
   "source": [
    "# to extract red, green, ble colour from the image"
   ]
  },
  {
   "cell_type": "code",
   "execution_count": null,
   "id": "c9e28ada",
   "metadata": {},
   "outputs": [],
   "source": [
    "image= cv2.imread('RGB.png')\n",
    "B, G, R = cv2.split(image)\n",
    "cv2.imshow('original', image)\n",
    "cv2.imshow('red_img',R)\n",
    "cv2.imshow('green_img', G)\n",
    "cv2.imshow('blue_img', B)\n",
    "\n",
    "cv2.waitKey()\n",
    "cv2.destroyAllWindows()"
   ]
  },
  {
   "cell_type": "code",
   "execution_count": null,
   "id": "0a56d585",
   "metadata": {},
   "outputs": [],
   "source": [
    "image= cv2.imread('RGB.png')\n",
    "B, G, R = cv2.split(image)\n",
    "\n",
    "merge= cv2.merge([B+100, G, R])\n",
    "cv2.imshow('merged image',merge)\n",
    "\n",
    "cv2.waitKey()\n",
    "cv2.destroyAllWindows()"
   ]
  },
  {
   "cell_type": "markdown",
   "id": "3365a86e",
   "metadata": {},
   "source": [
    "# Image properties"
   ]
  },
  {
   "cell_type": "code",
   "execution_count": null,
   "id": "ccf09adf",
   "metadata": {},
   "outputs": [],
   "source": [
    "print(image.shape)\n",
    "print(image.size)\n",
    "print(iamge.dtype)"
   ]
  },
  {
   "cell_type": "markdown",
   "id": "6eab7d9a",
   "metadata": {},
   "source": [
    "# Gaussain Blur- Smoothening"
   ]
  },
  {
   "cell_type": "code",
   "execution_count": 19,
   "id": "3c1ce0d9",
   "metadata": {},
   "outputs": [
    {
     "data": {
      "text/plain": [
       "True"
      ]
     },
     "execution_count": 19,
     "metadata": {},
     "output_type": "execute_result"
    }
   ],
   "source": [
    "img= cv2.imread('peacock.jpeg')\n",
    "gaussainimg = cv2.GaussianBlur(img,(21,21),0)\n",
    "cv2.imwrite('gaussimg.jpeg', gaussainimg)"
   ]
  },
  {
   "cell_type": "code",
   "execution_count": 21,
   "id": "325900ae",
   "metadata": {},
   "outputs": [
    {
     "name": "stderr",
     "output_type": "stream",
     "text": [
      "[ WARN:0@871.094] global /io/opencv/modules/videoio/src/cap_v4l.cpp (902) open VIDEOIO(V4L2:/dev/video0): can't open camera by index\n"
     ]
    },
    {
     "ename": "error",
     "evalue": "OpenCV(4.6.0) /io/opencv/modules/highgui/src/window.cpp:967: error: (-215:Assertion failed) size.width>0 && size.height>0 in function 'imshow'\n",
     "output_type": "error",
     "traceback": [
      "\u001b[0;31m---------------------------------------------------------------------------\u001b[0m",
      "\u001b[0;31merror\u001b[0m                                     Traceback (most recent call last)",
      "Input \u001b[0;32mIn [21]\u001b[0m, in \u001b[0;36m<cell line: 6>\u001b[0;34m()\u001b[0m\n\u001b[1;32m      3\u001b[0m image\u001b[38;5;241m=\u001b[39m cv2\u001b[38;5;241m.\u001b[39mVideoCapture(\u001b[38;5;241m0\u001b[39m) \u001b[38;5;66;03m# sepcify camera number 0,1,2,-1\u001b[39;00m\n\u001b[1;32m      4\u001b[0m _, frame\u001b[38;5;241m=\u001b[39m image\u001b[38;5;241m.\u001b[39mread()\n\u001b[0;32m----> 6\u001b[0m \u001b[43mcv2\u001b[49m\u001b[38;5;241;43m.\u001b[39;49m\u001b[43mimshow\u001b[49m\u001b[43m(\u001b[49m\u001b[38;5;124;43m'\u001b[39;49m\u001b[38;5;124;43mmyimage\u001b[39;49m\u001b[38;5;124;43m'\u001b[39;49m\u001b[43m,\u001b[49m\u001b[43m \u001b[49m\u001b[43mframe\u001b[49m\u001b[43m)\u001b[49m\n\u001b[1;32m      7\u001b[0m cv2\u001b[38;5;241m.\u001b[39mwaitKey()\n\u001b[1;32m      8\u001b[0m cv2\u001b[38;5;241m.\u001b[39mimwrite(\u001b[38;5;124m'\u001b[39m\u001b[38;5;124mmyimage1.jpg\u001b[39m\u001b[38;5;124m'\u001b[39m, frame)\n",
      "\u001b[0;31merror\u001b[0m: OpenCV(4.6.0) /io/opencv/modules/highgui/src/window.cpp:967: error: (-215:Assertion failed) size.width>0 && size.height>0 in function 'imshow'\n"
     ]
    }
   ],
   "source": [
    "# Live Video capture from laptop\n",
    "\n",
    "image= cv2.VideoCapture(0) # sepcify camera number 0,1,2,-1\n",
    "_, frame= image.read()\n",
    "\n",
    "cv2.imshow('myimage', frame)\n",
    "cv2.waitKey()\n",
    "cv2.imwrite('myimage1.jpg', frame)\n",
    "\n",
    "image.release()\n",
    "cv2.destroyAllWindows()"
   ]
  },
  {
   "cell_type": "code",
   "execution_count": null,
   "id": "696209e8",
   "metadata": {},
   "outputs": [],
   "source": []
  },
  {
   "cell_type": "code",
   "execution_count": null,
   "id": "9ab004f6",
   "metadata": {},
   "outputs": [],
   "source": []
  },
  {
   "cell_type": "code",
   "execution_count": null,
   "id": "2df2f6f5",
   "metadata": {},
   "outputs": [],
   "source": []
  }
 ],
 "metadata": {
  "kernelspec": {
   "display_name": "Python 3 (ipykernel)",
   "language": "python",
   "name": "python3"
  },
  "language_info": {
   "codemirror_mode": {
    "name": "ipython",
    "version": 3
   },
   "file_extension": ".py",
   "mimetype": "text/x-python",
   "name": "python",
   "nbconvert_exporter": "python",
   "pygments_lexer": "ipython3",
   "version": "3.9.12"
  }
 },
 "nbformat": 4,
 "nbformat_minor": 5
}
