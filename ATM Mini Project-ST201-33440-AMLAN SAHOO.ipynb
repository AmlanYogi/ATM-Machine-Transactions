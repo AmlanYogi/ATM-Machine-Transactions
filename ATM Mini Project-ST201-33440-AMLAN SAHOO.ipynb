{
 "cells": [
  {
   "cell_type": "code",
   "execution_count": null,
   "metadata": {},
   "outputs": [
    {
     "name": "stdout",
     "output_type": "stream",
     "text": [
      "WLCOME TO AMLAN BANK ATM.\n",
      "AMLAN JYOTI SANKAR SAHOO.\n",
      "12-08-20-ST201-33440.\n",
      "Please enter the user pin: 1111\n",
      "Re enter the user pin for verification: 1234\n",
      "Incorrect Pin. Try Again!\n",
      "Please enter the user pin: 1111\n",
      "Re enter the user pin for verification: 1111\n",
      "Correct Pin....pls select the correct option:\n",
      "\n",
      "\n",
      "1 - View Balance \t 2 - Deposit \t 3 - Withdraw \t 4 - Transfer \n",
      "\n",
      "Enter your selection: 1\n",
      "Your Balance is Rs. 100000.0 \n",
      "Thank You\n"
     ]
    }
   ],
   "source": [
    "print(\"WLCOME TO AMLAN BANK ATM.\\nAMLAN JYOTI SANKAR SAHOO.\\n12-08-20-ST201-33440.\")\n",
    "restart=('Y')\n",
    "chances=1\n",
    "balance=100000.00\n",
    "savings_balance=50000.00\n",
    "\n",
    "while chances>=0:\n",
    "    id=int(input(\"Please enter the user pin: \"))\n",
    "    id1=int(input(\"Re enter the user pin for verification: \"))\n",
    "    if id==id1:\n",
    "        print(\"Correct Pin....pls select the correct option:\\n\")\n",
    "        while restart not in ('n','NO','no','N'):\n",
    "            print(\"\\n1 - View Balance \\t 2 - Deposit \\t 3 - Withdraw \\t 4 - Transfer \")\n",
    "            option=int(input(\"\\nEnter your selection: \"))\n",
    "            if option==1:\n",
    "                print(\"Your Balance is Rs.\",balance,'\\n'\"Thank You\")\n",
    "                restart = input('Would You like to go back? ')\n",
    "                if restart in ('n','NO','no','N'):\n",
    "                    print('Thank You')\n",
    "                    break\n",
    "                    \n",
    "            elif option==2:\n",
    "                deposit=float(input('How Much Would You Like To Deposit? '))\n",
    "                balance = balance + deposit\n",
    "                print ('\\nYour Balance is now Rs.',balance)\n",
    "                restart = input('Would You like to go back? ')\n",
    "                if restart in ('n','NO','no','N'):\n",
    "                    print('Thank You')\n",
    "                    break\n",
    "                    \n",
    "            elif option==3:\n",
    "                option2 = ('y')\n",
    "                withdrawl = float(input(\"Please enter desired amount: \"))\n",
    "                balance = balance - withdrawl\n",
    "                print (\"\\nYour Balance is now Rs.\",balance)\n",
    "                restart = input(\"Would You like to go back? \")\n",
    "                if restart in ('n','NO','no','N'):\n",
    "                    print('Thank You')\n",
    "                    break\n",
    "                    \n",
    "            elif option==4:\n",
    "                transfer= float(input(\"Enter the amount to transfer: \"))\n",
    "                balance= balance-transfer\n",
    "                savings_balance=savings_balance+transfer\n",
    "                print(\"Your Checking Balance is now Rs.\",balance)\n",
    "                print(\"Savings balance is now Rs.\", savings_balance)\n",
    "                restart=input(\"Would you like to go back? \")\n",
    "                if restart in ('n','NO','no','N'):\n",
    "                    print('Thank you')\n",
    "                    break\n",
    "                    \n",
    "            else:\n",
    "                print(\"Invalid choice. Thanks for banking with us.\\n\")\n",
    "                restart = ('y')\n",
    "                break\n",
    "            \n",
    "    elif id!=id1:\n",
    "        print('Incorrect Pin. Try Again!')\n",
    "            "
   ]
  },
  {
   "cell_type": "code",
   "execution_count": null,
   "metadata": {},
   "outputs": [],
   "source": []
  }
 ],
 "metadata": {
  "kernelspec": {
   "display_name": "Python 3",
   "language": "python",
   "name": "python3"
  },
  "language_info": {
   "codemirror_mode": {
    "name": "ipython",
    "version": 3
   },
   "file_extension": ".py",
   "mimetype": "text/x-python",
   "name": "python",
   "nbconvert_exporter": "python",
   "pygments_lexer": "ipython3",
   "version": "3.8.3"
  }
 },
 "nbformat": 4,
 "nbformat_minor": 4
}
